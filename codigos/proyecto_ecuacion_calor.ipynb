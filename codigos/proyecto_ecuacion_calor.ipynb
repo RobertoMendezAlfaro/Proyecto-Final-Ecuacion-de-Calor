{
 "cells": [
  {
   "cell_type": "markdown",
   "id": "4ba7dedd",
   "metadata": {},
   "source": [
    "# Proyecto Final - Física Computacional"
   ]
  },
  {
   "cell_type": "markdown",
   "id": "ea899f32",
   "metadata": {},
   "source": [
    "## Ecuación de calor en dos dimensiones"
   ]
  },
  {
   "cell_type": "markdown",
   "id": "4c4680df",
   "metadata": {},
   "source": [
    "La ecuación de calor es una ecuación diferencial en derivadas parciales (PDE) que describe cómo se distribuye la temperatura $u(x,y,t)$ en una región bidimensional del espacio $(x,y)$ con respecto al tiempo $t$. En su forma ideal, esta ecuación modela la transferencia de calor bajo condiciones simplificadas: sin fuentes externas (energía), capacidad calórica uniforme y aislamiento perfecto en los bordes.\n",
    "\n",
    "La forma general de la ecuación es la siguiente:\n",
    "\n",
    "$$\n",
    "\\frac{∂u}{∂t}=c^{2}[\\frac{∂^{2}u}{∂x^{2}}+\\frac{∂^{2}u}{∂y^{2}}] \n",
    "$$\n",
    "\n",
    "donde:\n",
    "\n",
    "* $u(x,y,t)$ es la temperatura en un punto del plano $(x,y)$ en un instante $t$.\n",
    "* $c$ es la constante térmica del medio.\n",
    "* $\\frac{∂u}{∂t}$ es el cambio de temperatura respecto al tiempo.\n",
    "* $\\frac{∂^{2}u}{∂x^{2}}$ y $\\frac{∂^{2}u}{∂y^{2}}$ son derivadas parciales que representan la difusión de calor en $x$ e $y$ respectivamente.\n",
    "\n",
    "Para este proyecto, se trabaja en una región acotada $x ∈ [0,a]$ y $y ∈ [0,b]$ con condiciones de frontera variables. La dinámica del sistema está determinada por estas condiciones de frontera y por las condiciones iniciales."
   ]
  },
  {
   "cell_type": "markdown",
   "id": "203be791",
   "metadata": {},
   "source": [
    "## Discretización"
   ]
  },
  {
   "cell_type": "markdown",
   "id": "b5772249",
   "metadata": {},
   "source": [
    "Es necesario discretizar para poder trabajar con funciones continuas, ya que las computadoras no pueden manipular este tipo de funciones directamente. Para esto se trabaja con valores numéricos en puntos discretos dentro de una malla o rejilla con un número finito de puntos uniformemente espaciados (h). \n",
    "\n",
    "En el estado estacionario $\\frac{∂u}{∂t}=0$, entonces, se discretizan las derivadas parciales de $x$ y $y$ utilizando **diferencias finitas**:\n",
    "\n",
    "$$\n",
    " 0=\\frac{∂^{2}u}{∂x^{2}}+\\frac{∂^{2}u}{∂y^{2}}\n",
    "$$\n",
    "\n",
    "\n",
    "Para $\\frac{∂^{2}u}{∂x^{2}}$:\n",
    "\n",
    "$$\n",
    "\\frac{∂^{2}u}{∂x^{2}} \\approx \\frac{u_{i+1,j}-2u_{i,j}+u_{i-1,j}}{h^{2}}\n",
    "$$\n",
    "\n",
    "\n",
    "\n",
    "Para $\\frac{∂^{2}u}{∂y^{2}}$:\n",
    "\n",
    "$$\n",
    "\\frac{∂^{2}u}{∂y^{2}} \\approx \\frac{u_{i,j+1}-2u_{i,j}+u_{i,j-1}}{h^{2}}\n",
    "$$\n",
    "\n",
    "\n",
    "Desarrollando ambas expresiones en el estado estacionario:\n",
    "\n",
    "$$\n",
    "\\frac{u_{i+1,j}-2u_{i,j}+u_{i-1,j}}{h^{2}} + \\frac{u_{i,j+1}-2u_{i,j}+u_{i,j-1}}{h^{2}} = 0\n",
    "$$\n",
    "\n",
    "$$\n",
    "u_{i+1,j}-4u_{i,j}+u_{i-1,j} + u_{i,j+1}+u_{i,j-1} = 0\n",
    "$$\n",
    "\n",
    "Finalmente se llega a la siguiente expresión:\n",
    "\n",
    "$$\n",
    "u_{i,j} = \\frac{1}{4} (u_{i+1,j}+u_{i-1,j} + u_{i,j+1}+u_{i,j-1})\n",
    "$$\n",
    "\n",
    "donde $u_{i,j} = \\phi_{i,j}$ representa la temperatura en el punto $(i,j)$ de la rejilla o malla."
   ]
  },
  {
   "cell_type": "markdown",
   "id": "79c01796",
   "metadata": {},
   "source": [
    "## Método de Gauss-Seidel\n",
    "\n",
    "El método de Gauss-Seidel se utiliza para resolver problemas de disfretización de ecuaciones diferenciales como la ecuación de calor. Este método actualiza los valores de $\\phi$ en los mismos espacios de memoria para cada iteración. Esto reduce significativamente el tiempo computacional, ya que el número de iteraciones necesarias para alcanzar la convergencia tiende a ser menor.\n",
    "\n",
    "$$\n",
    "\\phi_{i,j} \\leftarrow \\frac{\\phi_{i+1,j} + \\phi_{i-1,j} + \\phi_{i,j+1} + \\phi_{i,j-1}}{4} \n",
    "$$\n",
    "\n",
    "Para reducir el numero de iteraciones se agrega un parámetro de relajación $\\omega$ (Guass-Seidel modificado):\n",
    "\n",
    "$$\n",
    "\\phi_{i,j} = (1 + \\omega) \\dot [\\frac{\\phi_{i+1,j} + \\phi_{i-1,j} + \\phi_{i,j+1} + \\phi_{i,j-1}}{4}] - (\\omega \\phi_{i,j})\n",
    "$$\n"
   ]
  },
  {
   "cell_type": "code",
   "execution_count": null,
   "id": "c40b8e03",
   "metadata": {},
   "outputs": [],
   "source": []
  },
  {
   "cell_type": "code",
   "execution_count": null,
   "id": "f6f3925f",
   "metadata": {},
   "outputs": [],
   "source": []
  },
  {
   "cell_type": "code",
   "execution_count": null,
   "id": "dc9f9da6",
   "metadata": {},
   "outputs": [],
   "source": []
  },
  {
   "cell_type": "code",
   "execution_count": 4,
   "id": "1aaf8489",
   "metadata": {},
   "outputs": [
    {
     "data": {
      "image/png": "[encoded data removed]",
      "text/plain": [
       "<Figure size 640x480 with 1 Axes>"
      ]
     },
     "metadata": {},
     "output_type": "display_data"
    }
   ],
   "source": [
    "import numpy as np\n",
    "import matplotlib\n",
    "from matplotlib import cm\n",
    "import matplotlib.pyplot as plt\n",
    "from matplotlib.animation import FuncAnimation\n",
    "\n",
    "# Función para analizar la evolución temporal de una placa con temperatura inicial temp_init a\n",
    "# la que se le aplica una temperatura de temp_sup en el borde superior y una de temp_lat en el\n",
    "# borde izquierdo. ancho y alto definien el tamaño de la grilla, omega es un parámetro del método\n",
    "# utilizado y frames es la cantidad de imágenes que deseamos guardar del sistema\n",
    "def temperaturas(temp_sup, temp_lat, temp_init, ancho, alto, omega, frames):\n",
    "\n",
    "    phi = np.zeros((ancho + 1, alto + 1), dtype=float) # Grilla bidimensional\n",
    "\n",
    "    phi[:, :] = temp_init # Condición inicial en el interior del sistema\n",
    "\n",
    "    phi[0, :] = temp_sup # Condición inical en borde superior de grilla\n",
    "\n",
    "    phi[:, 0] = temp_lat # Condición inical en borde izquierdo de grilla\n",
    "\n",
    "    phi[0, 0] = (temp_sup + temp_lat) / 2 # Condición inicial en la esquina\n",
    "\n",
    "    phi_copy = phi.copy() # Para comparar el error con la nueva grilla\n",
    "\n",
    "    animation = np.zeros((frames, ancho, alto))# Para almacenar copias del sistema para animar\n",
    "\n",
    "    iterations = 0 # Contador para las iteraciones\n",
    "\n",
    "    iterations_per_frame = 20 # Cada cuantas iteraciones se desea guarda una copia del sistema\n",
    "    frame_counter = 0 # Contador para los fotogramas guardados\n",
    "\n",
    "    delta = 1 # Tolerancia de precisión\n",
    "\n",
    "    while delta > 1e-7:\n",
    "        # Método Gauss Seidel para aproximar el cambio de T en el espacio con el tiempo\n",
    "        for i in range(1, ancho):\n",
    "\n",
    "            for j in range(1, alto):\n",
    "\n",
    "                phi[i,j] = (1 + omega) * 0.25 * (phi[i + 1, j] + phi[i - 1, j] + phi[i, j + 1] + phi[i, j - 1]) - omega * phi[i, j]\n",
    "\n",
    "        # Se guarda una copia del estado del sistema para crear la animación\n",
    "        if frame_counter < frames:\n",
    "            if (iterations % iterations_per_frame) == 0:\n",
    "\n",
    "                animation[frame_counter, :, :] = phi[:-1, :-1]\n",
    "\n",
    "                frame_counter += 1\n",
    "\n",
    "\n",
    "        delta = np.max(np.abs(phi - phi_copy))\n",
    "\n",
    "        iterations += 1\n",
    "\n",
    "        phi_copy = phi.copy() # Ponemos la nueva grilla como la antigua para compararla\n",
    "                              # con la  nueva en la siguiente iteración\n",
    "\n",
    "    #print(iterations)  # Este print se debe habilitar para conocer la cantida de iteraciones\n",
    "                        # para ajustar la animación dependiendo de las condiciones iniciales\n",
    "\n",
    "    return animation\n",
    "\n",
    "\n",
    "\n",
    "total_frames = 50 # Cantidad de fotogramas que se desea que muestre la animación\n",
    "\n",
    "# Implementación de la animación\n",
    "\n",
    "# Se guardan los resultados de la función iterativa\n",
    "heatmap = temperaturas(100, 200, 20, 50, 100, 0, total_frames)\n",
    "\n",
    "fig, ax = plt.subplots()\n",
    "\n",
    "# Se crea el fotograma inicial, aquí se escoge el esquema de colores con cmap\n",
    "animation = ax.imshow(heatmap[0,:,:], cmap=\"inferno\")\n",
    "\n",
    "# Se crea la función que va pasando los fotogramas\n",
    "def animate(frame):\n",
    "    new_frame = heatmap[frame,:,:]\n",
    "    animation.set_data(new_frame)\n",
    "    return animation\n",
    "\n",
    "\n",
    "anim = FuncAnimation(fig, animate, frames=total_frames)\n",
    "plt.show()"
   ]
  },
  {
   "cell_type": "code",
   "execution_count": null,
   "id": "fdc25484",
   "metadata": {},
   "outputs": [],
   "source": []
  }
 ],
 "metadata": {
  "kernelspec": {
   "display_name": "Python 3 (ipykernel)",
   "language": "python",
   "name": "python3"
  },
  "language_info": {
   "codemirror_mode": {
    "name": "ipython",
    "version": 3
   },
   "file_extension": ".py",
   "mimetype": "text/x-python",
   "name": "python",
   "nbconvert_exporter": "python",
   "pygments_lexer": "ipython3",
   "version": "3.12.3"
  }
 },
 "nbformat": 4,
 "nbformat_minor": 5
}
